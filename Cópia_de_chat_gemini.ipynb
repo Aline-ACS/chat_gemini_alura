{
  "nbformat": 4,
  "nbformat_minor": 0,
  "metadata": {
    "colab": {
      "provenance": [],
      "toc_visible": true,
      "authorship_tag": "ABX9TyMGUwB5wtrHjPuIAdjzhn3i",
      "include_colab_link": true
    },
    "kernelspec": {
      "name": "python3",
      "display_name": "Python 3"
    },
    "language_info": {
      "name": "python"
    }
  },
  "cells": [
    {
      "cell_type": "markdown",
      "metadata": {
        "id": "view-in-github",
        "colab_type": "text"
      },
      "source": [
        "<a href=\"https://colab.research.google.com/github/Aline-ACS/chat_gemini_alura/blob/main/C%C3%B3pia_de_chat_gemini.ipynb\" target=\"_parent\"><img src=\"https://colab.research.google.com/assets/colab-badge.svg\" alt=\"Open In Colab\"/></a>"
      ]
    },
    {
      "cell_type": "markdown",
      "source": [
        "Instalando SDK do Google"
      ],
      "metadata": {
        "id": "Bg065IQbRLgT"
      }
    },
    {
      "cell_type": "code",
      "execution_count": null,
      "metadata": {
        "id": "_0P9smE6RGdb"
      },
      "outputs": [],
      "source": [
        "!pip install -q -U google-generativeai"
      ]
    },
    {
      "cell_type": "markdown",
      "source": [
        "Importando SDK do Python"
      ],
      "metadata": {
        "id": "aBbogKaDRbmE"
      }
    },
    {
      "cell_type": "code",
      "source": [
        "import google.generativeai as genai\n",
        "\n",
        "GOOGLE_API_KEY=\"insert api key\"\n",
        "genai.configure(api_key=GOOGLE_API_KEY)"
      ],
      "metadata": {
        "id": "GpxKcmFKRXaB"
      },
      "execution_count": 1,
      "outputs": []
    },
    {
      "cell_type": "markdown",
      "source": [
        "Listar os modelos disponíveis"
      ],
      "metadata": {
        "id": "ye-xp0_3Rnoj"
      }
    },
    {
      "cell_type": "code",
      "source": [
        "for m in genai.list_models():\n",
        "  if 'generateContent' in m.supported_generation_methods:\n",
        "    print(m.name)"
      ],
      "metadata": {
        "colab": {
          "base_uri": "https://localhost:8080/",
          "height": 139
        },
        "id": "rmgwcChbRq4g",
        "outputId": "b720795c-49bf-4ccc-e0d1-3f2fb65537b4"
      },
      "execution_count": null,
      "outputs": [
        {
          "output_type": "stream",
          "name": "stdout",
          "text": [
            "models/gemini-1.0-pro\n",
            "models/gemini-1.0-pro-001\n",
            "models/gemini-1.0-pro-latest\n",
            "models/gemini-1.0-pro-vision-latest\n",
            "models/gemini-1.5-pro-latest\n",
            "models/gemini-pro\n",
            "models/gemini-pro-vision\n"
          ]
        }
      ]
    },
    {
      "cell_type": "markdown",
      "source": [
        "Configurações dos parâmetros de pesquisa e retorno"
      ],
      "metadata": {
        "id": "VOF8R4oyWhHH"
      }
    },
    {
      "cell_type": "code",
      "source": [
        "search_config = {\n",
        "    \"candidate_count\": 1,\n",
        "    \"temperature\": 0.5\n",
        "}"
      ],
      "metadata": {
        "id": "NhzKHzkRVcQq"
      },
      "execution_count": null,
      "outputs": []
    },
    {
      "cell_type": "markdown",
      "source": [
        "Configurações de Segurança"
      ],
      "metadata": {
        "id": "zqQOSAaYWmT5"
      }
    },
    {
      "cell_type": "code",
      "source": [
        "safety_config = {\n",
        "    \"HARASSMENT\": \"BLOCK_NONE\",\n",
        "    \"HATE\": \"BLOCK_NONE\",\n",
        "    \"SEXUAL\": \"BLOCK_NONE\",\n",
        "    \"DANGEROUS\": \"BLOCK_NONE\",\n",
        "}"
      ],
      "metadata": {
        "id": "15us53ZgV2pQ"
      },
      "execution_count": null,
      "outputs": []
    },
    {
      "cell_type": "markdown",
      "source": [
        "Inicializando o modelo"
      ],
      "metadata": {
        "id": "skfGbg3OW035"
      }
    },
    {
      "cell_type": "code",
      "source": [
        "model = genai.GenerativeModel(model_name=\"gemini-1.0-pro\", generation_config=search_config, safety_settings=safety_config)"
      ],
      "metadata": {
        "id": "MnUgE0hGW2kz"
      },
      "execution_count": null,
      "outputs": []
    },
    {
      "cell_type": "markdown",
      "source": [
        "Geração da resposta de texto"
      ],
      "metadata": {
        "id": "I0afLnCgXg41"
      }
    },
    {
      "cell_type": "code",
      "source": [
        "response = model.generate_content(\"O que é a IA?\")\n",
        "print(response.text)"
      ],
      "metadata": {
        "colab": {
          "base_uri": "https://localhost:8080/",
          "height": 34
        },
        "id": "vZs265b-XmeO",
        "outputId": "5cc81d7a-b05f-40e8-c065-d09794c3b19d"
      },
      "execution_count": null,
      "outputs": [
        {
          "output_type": "stream",
          "name": "stdout",
          "text": [
            "Bom dia para você também! Espero que você tenha um dia maravilhoso pela frente.\n"
          ]
        }
      ]
    },
    {
      "cell_type": "markdown",
      "source": [
        "Inicializando o chat"
      ],
      "metadata": {
        "id": "O3HCKS69Y4kE"
      }
    },
    {
      "cell_type": "code",
      "source": [
        "chat = model.start_chat(history=[])"
      ],
      "metadata": {
        "id": "AkTJeBxaYjaK"
      },
      "execution_count": null,
      "outputs": []
    },
    {
      "cell_type": "markdown",
      "source": [
        "Inserindo o input de conversação"
      ],
      "metadata": {
        "id": "2vNsm1YOY7IE"
      }
    },
    {
      "cell_type": "code",
      "source": [
        "prompt = input(\"Esperando prompt:\")\n",
        "\n",
        "while prompt != \"fim\":\n",
        "  response = chat.send_message(prompt)\n",
        "  print(\"Resposta: \", response.text, \"\\n\")\n",
        "  prompt = input(\"Esperando prompt:\")"
      ],
      "metadata": {
        "colab": {
          "base_uri": "https://localhost:8080/",
          "height": 1000
        },
        "id": "aq-XYsIRZAV9",
        "outputId": "73f67cf2-4a28-4db8-c927-f8eaf506960b"
      },
      "execution_count": null,
      "outputs": [
        {
          "name": "stdout",
          "output_type": "stream",
          "text": [
            "Esperando prompt:teste\n",
            "Resposta:  **Teste de Compreensão**\n",
            "\n",
            "**Instruções:** Leia o texto a seguir e responda às perguntas abaixo.\n",
            "\n",
            "**Texto:**\n",
            "\n",
            "A Revolução Industrial foi um período de transformações tecnológicas e sociais que ocorreu na Europa e nos Estados Unidos entre meados do século XVIII e meados do século XIX. Ela foi caracterizada pela introdução de novas tecnologias, como a máquina a vapor e o tear mecânico, que levaram a um aumento na produção e eficiência. Essas inovações também levaram a mudanças sociais, como o surgimento das fábricas e o crescimento das cidades.\n",
            "\n",
            "**Perguntas:**\n",
            "\n",
            "1. Em que período ocorreu a Revolução Industrial?\n",
            "2. Quais foram as duas principais tecnologias introduzidas durante a Revolução Industrial?\n",
            "3. Quais foram os dois principais impactos sociais da Revolução Industrial?\n",
            "\n",
            "**Respostas:**\n",
            "\n",
            "1. Entre meados do século XVIII e meados do século XIX\n",
            "2. Máquina a vapor e tear mecânico\n",
            "3. Surgimento das fábricas e crescimento das cidades \n",
            "\n",
            "Esperando prompt:ia\n",
            "Resposta:  **Inteligência Artificial**\n",
            "\n",
            "**Definição:**\n",
            "\n",
            "Inteligência Artificial (IA) é um campo da ciência da computação que se concentra no desenvolvimento de sistemas que podem realizar tarefas que normalmente requerem inteligência humana, como aprendizado, resolução de problemas e tomada de decisão.\n",
            "\n",
            "**Tipos de IA:**\n",
            "\n",
            "* **IA Fraca (ou Estreita):** Sistemas projetados para realizar uma tarefa específica, como jogar xadrez ou reconhecer imagens.\n",
            "* **IA Geral (ou Forte):** Sistemas que podem realizar uma ampla gama de tarefas, como um ser humano.\n",
            "* **Superinteligência:** Sistemas que superam as capacidades cognitivas humanas em todas as áreas.\n",
            "\n",
            "**Aplicações da IA:**\n",
            "\n",
            "* Automação de processos\n",
            "* Análise preditiva\n",
            "* Reconhecimento de padrões\n",
            "* Processamento de linguagem natural\n",
            "* Sistemas de recomendação\n",
            "\n",
            "**Implicações da IA:**\n",
            "\n",
            "* **Benefícios:** Maior eficiência, inovação e conveniência.\n",
            "* **Desafios:** Desemprego, viés algorítmico e questões éticas.\n",
            "\n",
            "**Futuro da IA:**\n",
            "\n",
            "O futuro da IA é incerto, mas espera-se que ela continue a desempenhar um papel cada vez mais importante em nossas vidas. No entanto, é crucial abordar as implicações éticas e sociais da IA para garantir que ela seja usada para o bem da humanidade. \n",
            "\n",
            "Esperando prompt:qual é a capital do brasil?\n",
            "Resposta:  Brasília \n",
            "\n",
            "Esperando prompt:qual a comida típica desse país?\n",
            "Resposta:  Feijoada \n",
            "\n",
            "Esperando prompt:fim\n"
          ]
        }
      ]
    },
    {
      "cell_type": "markdown",
      "source": [
        "Melhorando a visualização do chat e Imprimindo o histórico"
      ],
      "metadata": {
        "id": "HA6z733Cak8c"
      }
    },
    {
      "cell_type": "code",
      "source": [
        "import pathlib\n",
        "import textwrap\n",
        "\n",
        "import google.generativeai as genai\n",
        "\n",
        "from IPython.display import display\n",
        "from IPython.display import Markdown\n",
        "\n",
        "\n",
        "def to_markdown(text):\n",
        "  text = text.replace('•', '  *')\n",
        "  return Markdown(textwrap.indent(text, '> ', predicate=lambda _: True))\n",
        "\n",
        "for message in chat.history:\n",
        "  display(to_markdown(f'**{message.role}**: {message.parts[0].text}'))\n",
        "  print('------------------------------------------------------------')"
      ],
      "metadata": {
        "colab": {
          "base_uri": "https://localhost:8080/",
          "height": 1000
        },
        "id": "7xE32hHwajbL",
        "outputId": "8740454d-84e5-4ad8-99ed-6c36d6fd8a27"
      },
      "execution_count": null,
      "outputs": [
        {
          "output_type": "display_data",
          "data": {
            "text/plain": [
              "<IPython.core.display.Markdown object>"
            ],
            "text/markdown": "> **user**: teste"
          },
          "metadata": {}
        },
        {
          "output_type": "stream",
          "name": "stdout",
          "text": [
            "------------------------------------------------------------\n"
          ]
        },
        {
          "output_type": "display_data",
          "data": {
            "text/plain": [
              "<IPython.core.display.Markdown object>"
            ],
            "text/markdown": "> **model**: **Teste de Compreensão**\n> \n> **Instruções:** Leia o texto a seguir e responda às perguntas abaixo.\n> \n> **Texto:**\n> \n> A Revolução Industrial foi um período de transformações tecnológicas e sociais que ocorreu na Europa e nos Estados Unidos entre meados do século XVIII e meados do século XIX. Ela foi caracterizada pela introdução de novas tecnologias, como a máquina a vapor e o tear mecânico, que levaram a um aumento na produção e eficiência. Essas inovações também levaram a mudanças sociais, como o surgimento das fábricas e o crescimento das cidades.\n> \n> **Perguntas:**\n> \n> 1. Em que período ocorreu a Revolução Industrial?\n> 2. Quais foram as duas principais tecnologias introduzidas durante a Revolução Industrial?\n> 3. Quais foram os dois principais impactos sociais da Revolução Industrial?\n> \n> **Respostas:**\n> \n> 1. Entre meados do século XVIII e meados do século XIX\n> 2. Máquina a vapor e tear mecânico\n> 3. Surgimento das fábricas e crescimento das cidades"
          },
          "metadata": {}
        },
        {
          "output_type": "stream",
          "name": "stdout",
          "text": [
            "------------------------------------------------------------\n"
          ]
        },
        {
          "output_type": "display_data",
          "data": {
            "text/plain": [
              "<IPython.core.display.Markdown object>"
            ],
            "text/markdown": "> **user**: ia"
          },
          "metadata": {}
        },
        {
          "output_type": "stream",
          "name": "stdout",
          "text": [
            "------------------------------------------------------------\n"
          ]
        },
        {
          "output_type": "display_data",
          "data": {
            "text/plain": [
              "<IPython.core.display.Markdown object>"
            ],
            "text/markdown": "> **model**: **Inteligência Artificial**\n> \n> **Definição:**\n> \n> Inteligência Artificial (IA) é um campo da ciência da computação que se concentra no desenvolvimento de sistemas que podem realizar tarefas que normalmente requerem inteligência humana, como aprendizado, resolução de problemas e tomada de decisão.\n> \n> **Tipos de IA:**\n> \n> * **IA Fraca (ou Estreita):** Sistemas projetados para realizar uma tarefa específica, como jogar xadrez ou reconhecer imagens.\n> * **IA Geral (ou Forte):** Sistemas que podem realizar uma ampla gama de tarefas, como um ser humano.\n> * **Superinteligência:** Sistemas que superam as capacidades cognitivas humanas em todas as áreas.\n> \n> **Aplicações da IA:**\n> \n> * Automação de processos\n> * Análise preditiva\n> * Reconhecimento de padrões\n> * Processamento de linguagem natural\n> * Sistemas de recomendação\n> \n> **Implicações da IA:**\n> \n> * **Benefícios:** Maior eficiência, inovação e conveniência.\n> * **Desafios:** Desemprego, viés algorítmico e questões éticas.\n> \n> **Futuro da IA:**\n> \n> O futuro da IA é incerto, mas espera-se que ela continue a desempenhar um papel cada vez mais importante em nossas vidas. No entanto, é crucial abordar as implicações éticas e sociais da IA para garantir que ela seja usada para o bem da humanidade."
          },
          "metadata": {}
        },
        {
          "output_type": "stream",
          "name": "stdout",
          "text": [
            "------------------------------------------------------------\n"
          ]
        },
        {
          "output_type": "display_data",
          "data": {
            "text/plain": [
              "<IPython.core.display.Markdown object>"
            ],
            "text/markdown": "> **user**: qual é a capital do brasil?"
          },
          "metadata": {}
        },
        {
          "output_type": "stream",
          "name": "stdout",
          "text": [
            "------------------------------------------------------------\n"
          ]
        },
        {
          "output_type": "display_data",
          "data": {
            "text/plain": [
              "<IPython.core.display.Markdown object>"
            ],
            "text/markdown": "> **model**: Brasília"
          },
          "metadata": {}
        },
        {
          "output_type": "stream",
          "name": "stdout",
          "text": [
            "------------------------------------------------------------\n"
          ]
        },
        {
          "output_type": "display_data",
          "data": {
            "text/plain": [
              "<IPython.core.display.Markdown object>"
            ],
            "text/markdown": "> **user**: qual a comida típica desse país?"
          },
          "metadata": {}
        },
        {
          "output_type": "stream",
          "name": "stdout",
          "text": [
            "------------------------------------------------------------\n"
          ]
        },
        {
          "output_type": "display_data",
          "data": {
            "text/plain": [
              "<IPython.core.display.Markdown object>"
            ],
            "text/markdown": "> **model**: Feijoada"
          },
          "metadata": {}
        },
        {
          "output_type": "stream",
          "name": "stdout",
          "text": [
            "------------------------------------------------------------\n"
          ]
        }
      ]
    }
  ]
}